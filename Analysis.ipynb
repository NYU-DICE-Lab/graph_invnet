{
 "cells": [
  {
   "cell_type": "markdown",
   "metadata": {},
   "source": [
    "## Analysis code for Toy Example"
   ]
  },
  {
   "cell_type": "code",
   "execution_count": 1,
   "metadata": {},
   "outputs": [],
   "source": [
    "import torch\n",
    "import h5py\n",
    "import numpy as np\n",
    "\n",
    "from torch import nn\n",
    "from matplotlib import pyplot as plt\n",
    "from models import wgan\n",
    "from torch.utils.data import Dataset"
   ]
  },
  {
   "cell_type": "code",
   "execution_count": 3,
   "metadata": {},
   "outputs": [],
   "source": [
    "def gen_rand_noise():\n",
    "    noise = torch.randn(BATCH_SIZE, 128)\n",
    "    noise = noise.cpu()\n",
    "    \n",
    "    return noise"
   ]
  },
  {
   "cell_type": "markdown",
   "metadata": {},
   "source": [
    "During the training, we used the normalized value of the pixel, and pList and rList converts the unit of pixel to normalized value to 1."
   ]
  },
  {
   "cell_type": "code",
   "execution_count": 40,
   "metadata": {},
   "outputs": [],
   "source": [
    "def pConverter(x):\n",
    "    \"\"\"\n",
    "    x: an integer from 30 to 96.\n",
    "    \"\"\"\n",
    "    if type(x) is not int:\n",
    "        raise Exception(\"Should be integer\")\n",
    "    if x > 96 or x < 30:\n",
    "        raise Exeption(\"Pixel should be in 29<x<97.\")\n",
    "        \n",
    "    return x/128\n",
    "\n",
    "def rConverter(x):\n",
    "    \"\"\"\n",
    "    x: an integer from 14 to 32.\n",
    "    \"\"\"\n",
    "    \n",
    "    if type(x) is not int:\n",
    "        raise Exception(\"Should be integer\")\n",
    "    if x > 32 or x < 14:\n",
    "        raise Exeption(\"Pixel should be in 13<x<33.\")\n",
    "        \n",
    "    return np.pi*x*x/128/128"
   ]
  },
  {
   "cell_type": "markdown",
   "metadata": {},
   "source": [
    "### Generating circles with the generator."
   ]
  },
  {
   "cell_type": "markdown",
   "metadata": {},
   "source": [
    "The toy dataset has three channels with dimension 128 for width and height."
   ]
  },
  {
   "cell_type": "code",
   "execution_count": 15,
   "metadata": {},
   "outputs": [],
   "source": [
    "BATCH_SIZE = 1\n",
    "CHANNEL = 3\n",
    "DIM = 128"
   ]
  },
  {
   "cell_type": "code",
   "execution_count": 16,
   "metadata": {},
   "outputs": [],
   "source": [
    "# Directory to the generator file. *.pt.\n",
    "aG = torch.load('./output/test/generator.pt', map_location='cpu')\n",
    "aG.eval()\n",
    "fixed_noise = gen_rand_noise()"
   ]
  },
  {
   "cell_type": "markdown",
   "metadata": {},
   "source": [
    "The order of tuning parameter is following: $c_{1, x}, c_{2, x},c_{1, y},c_{2, y},r_{1},r_{2}$."
   ]
  },
  {
   "cell_type": "code",
   "execution_count": 39,
   "metadata": {},
   "outputs": [
    {
     "data": {
      "image/png": "[encoded data removed]",
      "text/plain": [
       "<Figure size 432x288 with 1 Axes>"
      ]
     },
     "metadata": {
      "needs_background": "light"
     },
     "output_type": "display_data"
    }
   ],
   "source": [
    "lv = torch.FloatTensor([pConverter(30), pConverter(90), pConverter(30), pConverter(90),\n",
    "                        rConverter(15), rConverter(20)]).repeat(BATCH_SIZE, 1)\n",
    "gen_images = aG(gen_rand_noise(), lv).view(BATCH_SIZE, CHANNEL, DIM, DIM)\n",
    "image = gen_images.detach().numpy()\n",
    "image = np.argmax(image, axis=1)\n",
    "plt.imshow(image[0], cmap='nipy_spectral')\n",
    "plt.axis('off')\n",
    "plt.clim(-6, 1.5)"
   ]
  }
 ],
 "metadata": {
  "kernelspec": {
   "display_name": "Python 3",
   "language": "python",
   "name": "python3"
  },
  "language_info": {
   "codemirror_mode": {
    "name": "ipython",
    "version": 3
   },
   "file_extension": ".py",
   "mimetype": "text/x-python",
   "name": "python",
   "nbconvert_exporter": "python",
   "pygments_lexer": "ipython3",
   "version": "3.6.8"
  }
 },
 "nbformat": 4,
 "nbformat_minor": 2
}
